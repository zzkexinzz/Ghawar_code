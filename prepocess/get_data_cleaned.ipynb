{
 "cells": [
  {
   "cell_type": "code",
   "execution_count": 2,
   "metadata": {},
   "outputs": [],
   "source": [
    "import numpy as np\n",
    "import pandas as pd\n"
   ]
  },
  {
   "cell_type": "code",
   "execution_count": 3,
   "metadata": {},
   "outputs": [
    {
     "name": "stdout",
     "output_type": "stream",
     "text": [
      "Index(['subject_id', 'icustay_id', 'age', 'icu_duration_hour', 'icu_times',\n",
      "       'icu_times_total', 'icu_times_sepsis', 'icu_times_total_sepsis',\n",
      "       'glu_min', 'glu_max', 'glu_avg', 'figglu_min', 'figglu_max',\n",
      "       'figglu_avg', 'pot_min', 'pot_max', 'pot_avg', 'sod_min', 'sod_max',\n",
      "       'sod_avg', 'hem_min', 'hem_max', 'hem_avg', 'chl_min', 'chl_max',\n",
      "       'chl_avg', 'bun_min', 'bun_max', 'bun_avg', 'cre_min', 'cre_max',\n",
      "       'cre_avg', 'hemo_min', 'hemo_max', 'hemo_avg', 'car_min', 'car_max',\n",
      "       'car_avg', 'rbc_min', 'rbc_max', 'rbc_avg', 'pla_min', 'pla_max',\n",
      "       'pla_avg', 'wbc_min', 'wbc_max', 'wbc_avg', 'hea_min', 'hea_max',\n",
      "       'hea_avg', 'mag_min', 'mag_max', 'mag_avg', 'res_min', 'res_max',\n",
      "       'res_avg', 'spo_min', 'spo_max', 'spo_avg', 'spo_alarms', 'temp_min',\n",
      "       'temp_max', 'temp_avg', 'hospital_expire_flag', 'expire_flag',\n",
      "       'died_immediately'],\n",
      "      dtype='object')\n",
      "66\n",
      "<class 'pandas.core.frame.DataFrame'>\n",
      "RangeIndex: 922 entries, 0 to 921\n",
      "Columns: 102 entries, subject_id to hear_last_V Paced\n",
      "dtypes: float64(49), int64(19), uint8(34)\n",
      "memory usage: 520.6 KB\n"
     ]
    }
   ],
   "source": [
    "path = r'F:\\STUDY\\python_code\\Pract_DA\\prepocess\\cleaned_data\\patient_sepsis_all_dropdup_dropnull25.csv'\n",
    "data = pd.read_csv(path)\n",
    "max_age_threshold = 120\n",
    "data.loc[data['age'] > max_age_threshold, 'age'] = np.nan\n",
    "data['age'].fillna(data['age'].mean(), inplace=True)\n",
    "\n",
    "numeric_columns = data.select_dtypes(include=[np.number]).columns\n",
    "print(numeric_columns)\n",
    "print(len(numeric_columns))\n",
    "data[numeric_columns] = data[numeric_columns].apply(lambda x: x.fillna(x.mean()))\n",
    "\n",
    "text_columns = data.select_dtypes(include=[object]).columns\n",
    "for col in text_columns:\n",
    "    data[col].fillna(data[col].mode()[0], inplace=True)\n",
    "\n",
    "if 'marital_status' in data.columns:\n",
    "    data.loc[data['marital_status'].isin(['UNKNOWN (DEFAULT)']), 'marital_status'] = data['marital_status'].mode()[0]\n",
    "    \n",
    "if 'gender' in data.columns:\n",
    "    data['gender'] = data['gender'].map({'M': 0, 'F': 1})\n",
    "\n",
    "\n",
    "if 'marital_status' in data.columns:\n",
    "    data = pd.get_dummies(data, columns=['marital_status'], prefix='marital')\n",
    "\n",
    "if 'hear_mode' in data.columns and 'hear_last' in data.columns:\n",
    "    data = pd.get_dummies(data, columns=['hear_mode', 'hear_last'])\n",
    "    \n",
    "if 'ethnicity' in data.columns:\n",
    "    data['ethnicity'] = data['ethnicity'].apply(lambda x: 'white' if x == 'WHITE' else 'non-white')\n",
    "    data['ethnicity'] = data['ethnicity'].map({'white': 1, 'non-white': 0})\n",
    "    \n",
    "data.describe()\n",
    "data.info()\n"
   ]
  },
  {
   "cell_type": "code",
   "execution_count": 4,
   "metadata": {},
   "outputs": [],
   "source": [
    "data.to_csv(r'F:\\STUDY\\python_code\\Pract_DA\\prepocess\\cleaned_data\\cleaned_data_allfill.csv')"
   ]
  }
 ],
 "metadata": {
  "kernelspec": {
   "display_name": "Python 3",
   "language": "python",
   "name": "python3"
  },
  "language_info": {
   "codemirror_mode": {
    "name": "ipython",
    "version": 3
   },
   "file_extension": ".py",
   "mimetype": "text/x-python",
   "name": "python",
   "nbconvert_exporter": "python",
   "pygments_lexer": "ipython3",
   "version": "3.7.6"
  }
 },
 "nbformat": 4,
 "nbformat_minor": 2
}
